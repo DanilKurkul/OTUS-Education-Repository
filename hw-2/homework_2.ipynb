{
 "cells": [
  {
   "cell_type": "markdown",
   "metadata": {},
   "source": [
    "# <center> Homework 2 </center>"
   ]
  },
  {
   "cell_type": "code",
   "execution_count": 1,
   "metadata": {},
   "outputs": [],
   "source": [
    "# autoreload позволяет нам подгружать изменения во внешнем коде\n",
    "# без необходимости перезагружать kernel у ноутбука\n",
    "%load_ext autoreload\n",
    "%autoreload 2"
   ]
  },
  {
   "cell_type": "markdown",
   "metadata": {},
   "source": [
    "## 1) Exceptions\n",
    "В модуле `exceptions` объявите следующие исключения:\n",
    "- LowFuelError\n",
    "- NotEnoughFuel\n",
    "- CargoOverload"
   ]
  },
  {
   "cell_type": "code",
   "execution_count": 2,
   "metadata": {},
   "outputs": [],
   "source": [
    "import exceptions"
   ]
  },
  {
   "cell_type": "markdown",
   "metadata": {},
   "source": [
    "## 2) Vehicle \n",
    "\n",
    "<img src=\"https://cs.pikabu.ru/images/big_size_comm/2013-12_4/13874526438897.jpg\" width=300>\n",
    "\n",
    "Доработайте базовый класс `Vehicle`:\n",
    "- добавьте атрибуты `weight`, `started`, `fuel`, `fuel_consumption` со значениями по умолчанию\n",
    "- добавьте инициализатор для установки `weight`, `fuel`, `fuel_consumption`\n",
    "- добавьте метод `start`, который, если ещё не состояние `started`, проверяет, что топлива больше нуля, \n",
    "  и обновляет состояние `started`, иначе выкидывает исключение `exceptions.LowFuelError`\n",
    "- добавьте метод `move`, который проверяет, \n",
    "  что достаточно топлива для преодоления переданной дистанции, \n",
    "  и изменяет количество оставшегося топлива, иначе выкидывает исключение `exceptions.NotEnoughFuel`"
   ]
  },
  {
   "cell_type": "code",
   "execution_count": 3,
   "metadata": {},
   "outputs": [],
   "source": [
    "from abc import ABC, abstractmethod\n",
    "\n",
    "\n",
    "class Vehicle(ABC):\n",
    "    \n",
    "    # добавьте атрибуты weight, started, fuel, fuel_consumption со значениями по умолчанию\n",
    "    _WEIGHT = 1000\n",
    "    _STARTED = False\n",
    "    # _FUEL = 0\n",
    "    _FUEL_CONSUMPTION = 10\n",
    "    \n",
    "    # добавьте инициализатор для установки weight, fuel, fuel_consumption\n",
    "    @abstractmethod\n",
    "    def __init__(self, weight = None, fuel = 0, fuel_consupmtion = None):\n",
    "        # Значения по умолчанию приходится внутри проверять,\n",
    "        # чтобы можно было свойство класса переопределить при наследовании\n",
    "        self._weight = float(weight) if not weight is None else self._WEIGHT\n",
    "        self._started = self._STARTED\n",
    "        self.fuel = float(fuel)\n",
    "        self._fuel_consupmtion = float(fuel_consupmtion) if not fuel_consupmtion is None else self._FUEL_CONSUMPTION\n",
    "    \n",
    "    # добавьте метод start, который, если ещё не состояние started,\n",
    "    # проверяет, что топлива больше нуля, и обновляет состояние started,\n",
    "    # иначе выкидывает исключение exceptions.LowFuelError\n",
    "    def start(self):\n",
    "        if not self._started:\n",
    "            if (self.fuel > 0):\n",
    "                self._started = True\n",
    "            else:\n",
    "                raise exceptions.LowFuelError(f'Current fuel level is {self.fuel}')\n",
    "            \n",
    "    def stop(self):\n",
    "        self._started = False\n",
    "        \n",
    "    @property\n",
    "    def started(self):\n",
    "        return self._started\n",
    "    \n",
    "    # добавьте метод move, который проверяет, что достаточно топлива для преодоления переданной дистанции,\n",
    "    # и изменяет количество оставшегося топлива,\n",
    "    # иначе выкидывает исключение exceptions.NotEnoughFuel\n",
    "    def move(self, distance, stop_arter_moving:bool = False):\n",
    "        # Проверка переданной дистанции\n",
    "        distance = float(distance)\n",
    "        if not (\n",
    "            # isinstance(distance, (int, float)) and\n",
    "            distance > 0\n",
    "        ):\n",
    "            # Общее исключение для VehicleException, может тут ValueErroe или TypeError вызывать\n",
    "            raise exceptions.VehicleException(\n",
    "                'Moving distance must be positive value of int or float. ' + \\\n",
    "                f'Current distance is {distance}, type {type(distance)}'\n",
    "            )\n",
    "        \n",
    "        # Остаток топлива\n",
    "        rest_fuel = self.fuel - distance * self._fuel_consupmtion / 100 \n",
    "        \n",
    "        if rest_fuel < 0: # Если не хваатет\n",
    "            raise exceptions.NotEnoughFuel(f'Not enough {self.fuel} fuel. Need {rest_fuel * (-1)} fuel more.')\n",
    "        else:\n",
    "            self.start() # решил, что не гоже выключенными катиться\n",
    "            self.fuel = rest_fuel\n",
    "            if stop_arter_moving: self.stop()\n",
    "        \n",
    "        "
   ]
  },
  {
   "cell_type": "code",
   "execution_count": 4,
   "metadata": {},
   "outputs": [
    {
     "name": "stdout",
     "output_type": "stream",
     "text": [
      "{'_weight': 1000, '_started': True, 'fuel': 20.0, '_fuel_consupmtion': 10}\n",
      "True\n"
     ]
    },
    {
     "data": {
      "text/plain": [
       "mappingproxy({'__module__': '__main__',\n",
       "              '__init__': <function __main__.EnyVehicle.__init__(self, *args, **kwargs)>,\n",
       "              '__doc__': None,\n",
       "              '__abstractmethods__': frozenset(),\n",
       "              '_abc_impl': <_abc._abc_data at 0x2d2772799c0>})"
      ]
     },
     "execution_count": 4,
     "metadata": {},
     "output_type": "execute_result"
    }
   ],
   "source": [
    "# Проверки      \n",
    "\n",
    "class EnyVehicle(Vehicle):\n",
    "    def __init__(self, *args, **kwargs):\n",
    "        super().__init__(*args, **kwargs)\n",
    "        \n",
    "veh1 = EnyVehicle()\n",
    "veh1.fuel = 80\n",
    "veh1.start()\n",
    "assert veh1.started\n",
    "veh1.stop()\n",
    "assert not veh1.started\n",
    "\n",
    "# veh1.move(-801)\n",
    "# veh1.move('Far')\n",
    "# veh1.move()\n",
    "veh1.move('600')\n",
    "\n",
    "print(veh1.__dict__)\n",
    "print(veh1.started)\n",
    "vars(EnyVehicle)"
   ]
  },
  {
   "cell_type": "markdown",
   "metadata": {},
   "source": [
    "## 3) Engine \n",
    "\n",
    "<img src=\"https://upload.wikimedia.org/wikipedia/commons/6/6f/National_gas_engine_%28Rankin_Kennedy%2C_Modern_Engines%2C_Vol_II%29.jpg\" width=250>\n",
    "\n",
    "Создайте датакласс `Engine`, добавьте атрибуты `volume` и `pistons`"
   ]
  },
  {
   "cell_type": "code",
   "execution_count": 5,
   "metadata": {},
   "outputs": [],
   "source": [
    "\"\"\"\n",
    "create dataclass `Engine`\n",
    "\"\"\"\n",
    "from dataclasses import dataclass\n",
    "\n",
    "@dataclass\n",
    "class Engine:\n",
    "    # добавьте атрибуты volume и pistons\n",
    "    volume: float\n",
    "    pistons: int"
   ]
  },
  {
   "cell_type": "code",
   "execution_count": 6,
   "metadata": {},
   "outputs": [
    {
     "data": {
      "text/plain": [
       "{'volume': 2.2, 'pistons': 6}"
      ]
     },
     "execution_count": 6,
     "metadata": {},
     "output_type": "execute_result"
    }
   ],
   "source": [
    "# Проверки      \n",
    "\n",
    "v6_2_2 = Engine(volume = 2.2, pistons=6)\n",
    "vars(v6_2_2)"
   ]
  },
  {
   "cell_type": "markdown",
   "metadata": {},
   "source": [
    "## 4) Car \n",
    "\n",
    "<img src=\"https://lh3.googleusercontent.com/proxy/RJqzSJqZFQrx7xOXimZQ4ooInGE6ViJdwz7JZZ_b__Eun-stRH2NMw47fM4je2hL1afRtmpKS9kZUVY0p2YcaZVtJ7bKRw3wWHRRa6zVUbeIb5TYLNkwx5A\" width=250>\n",
    "\n",
    "Cоздайте класс `Car`\n",
    "    - класс `Car` должен быть наследником `Vehicle`\n",
    "    - добавьте атрибут `engine` классу `Car`\n",
    "    - объявите метод `set_engine`, который принимает в себя экземпляр объекта `Engine` и устанавливает на текущий экземпляр `Car`"
   ]
  },
  {
   "cell_type": "code",
   "execution_count": 7,
   "metadata": {},
   "outputs": [],
   "source": [
    "\"\"\"\n",
    "создайте класс `Car`, наследник `Vehicle`\n",
    "\"\"\"\n",
    "class Car(Vehicle):\n",
    "    def __init__(self, *args, **kwargs):\n",
    "        super().__init__(*args, **kwargs)\n",
    "        # добавьте атрибут engine классу Car\n",
    "        self._engine = None\n",
    "    \n",
    "    # объявите метод set_engine, который принимает в себя экземпляр объекта Engine\n",
    "    # и устанавливает на текущий экземпляр Car\n",
    "    def set_engine(self, newengine:Engine, swap:bool = False):\n",
    "        if self._engine is None or swap == True:\n",
    "            self._engine = newengine\n",
    "        else:\n",
    "            raise exceptions.VehicleException(\n",
    "                'Engine could be added only if car have no engine yet ' + \\\n",
    "                'or if it is swap engine operation, called with parameter swap=True. ' + \\\n",
    "                f'Current engine is {vars(self._engine)}'\n",
    "            )\n"
   ]
  },
  {
   "cell_type": "code",
   "execution_count": 8,
   "metadata": {},
   "outputs": [
    {
     "name": "stdout",
     "output_type": "stream",
     "text": [
      "{'_weight': 1000, '_started': True, 'fuel': 20.0, '_fuel_consupmtion': 10, '_engine': Engine(volume=1.4, pistons=4)}\n"
     ]
    },
    {
     "data": {
      "text/plain": [
       "{'_weight': 2000,\n",
       " '_started': False,\n",
       " 'fuel': 0.0,\n",
       " '_fuel_consupmtion': 15.0,\n",
       " '_engine': Engine(volume=5.5, pistons=10)}"
      ]
     },
     "execution_count": 8,
     "metadata": {},
     "output_type": "execute_result"
    }
   ],
   "source": [
    "# Проверки      \n",
    "\n",
    "car1 = Car()\n",
    "car1.fuel = 80\n",
    "car1.start()\n",
    "assert car1.started\n",
    "car1.stop()\n",
    "assert not car1.started\n",
    "\n",
    "# car1.move(-801)\n",
    "# car1.move('Far')\n",
    "# car1.move()\n",
    "car1.move('600')\n",
    "\n",
    "car1.set_engine(v6_2_2)\n",
    "r4_1_4 = Engine(1.4, 4)\n",
    "car1.set_engine(r4_1_4, swap=True)\n",
    "\n",
    "print(vars(car1))\n",
    "\n",
    "\n",
    "class HeavyCar(Car):\n",
    "    _WEIGHT = 2000\n",
    "    _FUEL_CONSUMPTION = Vehicle._FUEL_CONSUMPTION * 1.5\n",
    "\n",
    "car2 = HeavyCar()\n",
    "car2.set_engine(Engine(5.5, 10))\n",
    "\n",
    "vars(car2)"
   ]
  },
  {
   "cell_type": "markdown",
   "metadata": {},
   "source": [
    "## 5) Plane\n",
    "\n",
    "<img src=\"http://www.weirduniverse.net/images/2017/1934parachute02.jpg\" width=250>\n",
    "\n",
    "Создайте класс `Plane`\n",
    "- класс `Plane` должен быть наследником `Vehicle`\n",
    "- добавьте атрибуты `cargo` и `max_cargo` классу `Plane`\n",
    "- добавьте `max_cargo` в инициализатор (переопределите родительский)\n",
    "- объявите метод `load_cargo`, который принимает число, проверяет, что в сумме с текущим `cargo` не будет перегруза, и обновляет значение, в ином случае выкидывает исключение `exceptions.CargoOverload`\n",
    "- объявите метод `remove_all_cargo`, который обнуляет значение `cargo` и возвращает значение `cargo`, которое было до обнуления"
   ]
  },
  {
   "cell_type": "code",
   "execution_count": 9,
   "metadata": {},
   "outputs": [],
   "source": [
    "\"\"\"\n",
    "создайте класс `Plane`, наследник `Vehicle`\n",
    "\"\"\"\n",
    "class Plane(Vehicle):\n",
    "    _MAX_CARGO = Vehicle._WEIGHT * 0.1\n",
    "    \n",
    "    # добавьте атрибуты cargo и max_cargo классу Plane\n",
    "    # добавьте max_cargo в инициализатор (переопределите родительский)\n",
    "    def __init__(self, max_cargo = None,  *args, **kwargs):\n",
    "        super().__init__(*args, **kwargs)\n",
    "        self._cargo = 0\n",
    "        self._max_cargo = max_cargo if not max_cargo is None else self._MAX_CARGO\n",
    "    \n",
    "    @property\n",
    "    def cargo(self):\n",
    "        return self._cargo\n",
    "    \n",
    "    # объявите метод load_cargo, который принимает число,\n",
    "    # проверяет, что в сумме с текущим cargo не будет перегруза, и обновляет значение,\n",
    "    # в ином случае выкидывает исключение exceptions.CargoOverload\n",
    "    def load_cargo(self, added_cargo):\n",
    "        added_cargo = float(added_cargo)\n",
    "        if not added_cargo > 0:\n",
    "            # Общее исключение для VehicleException, может тут ValueErroe или TypeError вызывать\n",
    "            raise exceptions.VehicleException(\n",
    "                'Additional cargo must be positive value of int or float. ' + \\\n",
    "                f'Passed additional cargo is {added_cargo}, type {type(added_cargo)}'\n",
    "            )\n",
    "        \n",
    "        cargo_sum = self._cargo + added_cargo\n",
    "        \n",
    "        if cargo_sum <= self._max_cargo:\n",
    "            self._cargo = cargo_sum\n",
    "        else:\n",
    "            raise exceptions.CargoOverload(\n",
    "                f'Lots of cargo. Current cargo {self._cargo}, additional cargo {added_cargo}. ' + \\\n",
    "                f'Combined cargo {cargo_sum} - it is more then max {self._max_cargo}.'\n",
    "            )\n",
    "            \n",
    "    # объявите метод remove_all_cargo, который обнуляет значение cargo\n",
    "    # и возвращает значение cargo, которое было до обнуления\n",
    "    def remove_all_cargo(self):\n",
    "        removed_cargo = self._cargo\n",
    "        self._cargo = 0\n",
    "        return removed_cargo\n",
    "        \n",
    "            "
   ]
  },
  {
   "cell_type": "code",
   "execution_count": 10,
   "metadata": {},
   "outputs": [
    {
     "name": "stdout",
     "output_type": "stream",
     "text": [
      "{'_weight': 1000, '_started': False, 'fuel': 0.0, '_fuel_consupmtion': 10, '_cargo': 0, '_max_cargo': 100.0}\n",
      "{'__module__': '__main__', '_MAX_CARGO': 100.0, '__init__': <function Plane.__init__ at 0x000002D2772A4940>, 'cargo': <property object at 0x000002D2772671A0>, 'load_cargo': <function Plane.load_cargo at 0x000002D2772A4CA0>, 'remove_all_cargo': <function Plane.remove_all_cargo at 0x000002D2772A4D30>, '__doc__': None, '__abstractmethods__': frozenset(), '_abc_impl': <_abc._abc_data object at 0x000002D277283100>}\n",
      "\n",
      "plane2.cargo: 80.0\n"
     ]
    },
    {
     "data": {
      "text/plain": [
       "{'_weight': 1000,\n",
       " '_started': False,\n",
       " 'fuel': 5.0,\n",
       " '_fuel_consupmtion': 10,\n",
       " '_cargo': 0,\n",
       " '_max_cargo': 100.0}"
      ]
     },
     "execution_count": 10,
     "metadata": {},
     "output_type": "execute_result"
    }
   ],
   "source": [
    "# Проверки \n",
    "\n",
    "plane1 = Plane()\n",
    "\n",
    "print(vars(plane1))\n",
    "print(vars(Plane))\n",
    "\n",
    "plane1.load_cargo('80')\n",
    "# plane1.load_cargo(-21)\n",
    "\n",
    "plane1.fuel = 65\n",
    "plane1.move(600, stop_arter_moving=True)\n",
    "\n",
    "plane2 = Plane()\n",
    "plane2.load_cargo(plane1.remove_all_cargo())\n",
    "\n",
    "print('\\nplane2.cargo:', plane2.cargo)\n",
    "vars(plane1)"
   ]
  },
  {
   "cell_type": "code",
   "execution_count": 12,
   "metadata": {},
   "outputs": [
    {
     "data": {
      "text/plain": [
       "{'_weight': 2000,\n",
       " '_started': False,\n",
       " 'fuel': 0.0,\n",
       " '_fuel_consupmtion': 10,\n",
       " '_cargo': 0,\n",
       " '_max_cargo': 600.0}"
      ]
     },
     "execution_count": 12,
     "metadata": {},
     "output_type": "execute_result"
    }
   ],
   "source": [
    "# Проверка переопределения class property при наследовании\n",
    "class SuperPlane(Plane):\n",
    "    _WEIGHT = Plane._WEIGHT * 2\n",
    "    _MAX_CARGO = _WEIGHT * 0.3\n",
    "    \n",
    "    \n",
    "plane3 = SuperPlane()\n",
    "\n",
    "vars(plane3)"
   ]
  }
 ],
 "metadata": {
  "kernelspec": {
   "display_name": "Python 3 (ipykernel)",
   "language": "python",
   "name": "python3"
  },
  "language_info": {
   "codemirror_mode": {
    "name": "ipython",
    "version": 3
   },
   "file_extension": ".py",
   "mimetype": "text/x-python",
   "name": "python",
   "nbconvert_exporter": "python",
   "pygments_lexer": "ipython3",
   "version": "3.10.4"
  },
  "varInspector": {
   "cols": {
    "lenName": 16,
    "lenType": 16,
    "lenVar": 40
   },
   "kernels_config": {
    "python": {
     "delete_cmd_postfix": "",
     "delete_cmd_prefix": "del ",
     "library": "var_list.py",
     "varRefreshCmd": "print(var_dic_list())"
    },
    "r": {
     "delete_cmd_postfix": ") ",
     "delete_cmd_prefix": "rm(",
     "library": "var_list.r",
     "varRefreshCmd": "cat(var_dic_list()) "
    }
   },
   "types_to_exclude": [
    "module",
    "function",
    "builtin_function_or_method",
    "instance",
    "_Feature"
   ],
   "window_display": false
  }
 },
 "nbformat": 4,
 "nbformat_minor": 2
}
