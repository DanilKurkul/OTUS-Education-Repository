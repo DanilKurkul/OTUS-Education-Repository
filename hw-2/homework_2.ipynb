{
 "cells": [
  {
   "cell_type": "markdown",
   "metadata": {},
   "source": [
    "# <center> Homework 2 </center>"
   ]
  },
  {
   "cell_type": "code",
   "execution_count": 1,
   "metadata": {},
   "outputs": [],
   "source": [
    "# autoreload позволяет нам подгружать изменения во внешнем коде\n",
    "# без необходимости перезагружать kernel у ноутбука\n",
    "%load_ext autoreload\n",
    "%autoreload 2"
   ]
  },
  {
   "cell_type": "markdown",
   "metadata": {},
   "source": [
    "## 1) Exceptions\n",
    "В модуле `exceptions` объявите следующие исключения:\n",
    "- LowFuelError\n",
    "- NotEnoughFuel\n",
    "- CargoOverload"
   ]
  },
  {
   "cell_type": "code",
   "execution_count": 3,
   "metadata": {},
   "outputs": [
    {
     "ename": "IndentationError",
     "evalue": "unexpected indent (1565002038.py, line 4)",
     "output_type": "error",
     "traceback": [
      "\u001b[1;36m  Input \u001b[1;32mIn [3]\u001b[1;36m\u001b[0m\n\u001b[1;33m    pass\u001b[0m\n\u001b[1;37m    ^\u001b[0m\n\u001b[1;31mIndentationError\u001b[0m\u001b[1;31m:\u001b[0m unexpected indent\n"
     ]
    }
   ],
   "source": [
    "import exceptions\n"
   ]
  },
  {
   "cell_type": "markdown",
   "metadata": {},
   "source": [
    "## 2) Vehicle \n",
    "\n",
    "<img src=\"https://cs.pikabu.ru/images/big_size_comm/2013-12_4/13874526438897.jpg\" width=300>\n",
    "\n",
    "Доработайте базовый класс `Vehicle`:\n",
    "- добавьте атрибуты `weight`, `started`, `fuel`, `fuel_consumption` со значениями по умолчанию\n",
    "- добавьте инициализатор для установки `weight`, `fuel`, `fuel_consumption`\n",
    "- добавьте метод `start`, который, если ещё не состояние `started`, проверяет, что топлива больше нуля, \n",
    "  и обновляет состояние `started`, иначе выкидывает исключение `exceptions.LowFuelError`\n",
    "- добавьте метод `move`, который проверяет, \n",
    "  что достаточно топлива для преодоления переданной дистанции, \n",
    "  и изменяет количество оставшегося топлива, иначе выкидывает исключение `exceptions.NotEnoughFuel`"
   ]
  },
  {
   "cell_type": "code",
   "execution_count": null,
   "metadata": {},
   "outputs": [],
   "source": [
    "from abc import ABC\n",
    "\n",
    "\n",
    "class Vehicle(ABC):\n",
    "    pass"
   ]
  },
  {
   "cell_type": "markdown",
   "metadata": {},
   "source": [
    "## 3) Engine \n",
    "\n",
    "<img src=\"https://upload.wikimedia.org/wikipedia/commons/6/6f/National_gas_engine_%28Rankin_Kennedy%2C_Modern_Engines%2C_Vol_II%29.jpg\" width=250>\n",
    "\n",
    "Создайте датакласс `Engine`, добавьте атрибуты `volume` и `pistons`"
   ]
  },
  {
   "cell_type": "code",
   "execution_count": null,
   "metadata": {},
   "outputs": [],
   "source": [
    "\"\"\"\n",
    "create dataclass `Engine`\n",
    "\"\"\""
   ]
  },
  {
   "cell_type": "markdown",
   "metadata": {},
   "source": [
    "## 4) Car \n",
    "\n",
    "<img src=\"https://lh3.googleusercontent.com/proxy/RJqzSJqZFQrx7xOXimZQ4ooInGE6ViJdwz7JZZ_b__Eun-stRH2NMw47fM4je2hL1afRtmpKS9kZUVY0p2YcaZVtJ7bKRw3wWHRRa6zVUbeIb5TYLNkwx5A\" width=250>\n",
    "\n",
    "Cоздайте класс `Car`\n",
    "    - класс `Car` должен быть наследником `Vehicle`\n",
    "    - добавьте атрибут `engine` классу `Car`\n",
    "    - объявите метод `set_engine`, который принимает в себя экземпляр объекта `Engine` и устанавливает на текущий экземпляр `Car`"
   ]
  },
  {
   "cell_type": "code",
   "execution_count": null,
   "metadata": {},
   "outputs": [],
   "source": [
    "\"\"\"\n",
    "создайте класс `Car`, наследник `Vehicle`\n",
    "\"\"\""
   ]
  },
  {
   "cell_type": "markdown",
   "metadata": {},
   "source": [
    "## 5) Plane\n",
    "\n",
    "<img src=\"http://www.weirduniverse.net/images/2017/1934parachute02.jpg\" width=250>\n",
    "\n",
    "Создайте класс `Plane`\n",
    "- класс `Plane` должен быть наследником `Vehicle`\n",
    "- добавьте атрибуты `cargo` и `max_cargo` классу `Plane`\n",
    "- добавьте `max_cargo` в инициализатор (переопределите родительский)\n",
    "- объявите метод `load_cargo`, который принимает число, проверяет, что в сумме с текущим `cargo` не будет перегруза, и обновляет значение, в ином случае выкидывает исключение `exceptions.CargoOverload`\n",
    "- объявите метод `remove_all_cargo`, который обнуляет значение `cargo` и возвращает значение `cargo`, которое было до обнуления"
   ]
  },
  {
   "cell_type": "code",
   "execution_count": null,
   "metadata": {},
   "outputs": [],
   "source": [
    "\"\"\"\n",
    "создайте класс `Plane`, наследник `Vehicle`\n",
    "\"\"\""
   ]
  }
 ],
 "metadata": {
  "kernelspec": {
   "display_name": "Python 3 (ipykernel)",
   "language": "python",
   "name": "python3"
  },
  "language_info": {
   "codemirror_mode": {
    "name": "ipython",
    "version": 3
   },
   "file_extension": ".py",
   "mimetype": "text/x-python",
   "name": "python",
   "nbconvert_exporter": "python",
   "pygments_lexer": "ipython3",
   "version": "3.10.4"
  },
  "varInspector": {
   "cols": {
    "lenName": 16,
    "lenType": 16,
    "lenVar": 40
   },
   "kernels_config": {
    "python": {
     "delete_cmd_postfix": "",
     "delete_cmd_prefix": "del ",
     "library": "var_list.py",
     "varRefreshCmd": "print(var_dic_list())"
    },
    "r": {
     "delete_cmd_postfix": ") ",
     "delete_cmd_prefix": "rm(",
     "library": "var_list.r",
     "varRefreshCmd": "cat(var_dic_list()) "
    }
   },
   "types_to_exclude": [
    "module",
    "function",
    "builtin_function_or_method",
    "instance",
    "_Feature"
   ],
   "window_display": false
  }
 },
 "nbformat": 4,
 "nbformat_minor": 2
}
