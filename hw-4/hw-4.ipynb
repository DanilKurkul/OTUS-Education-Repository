{
 "cells": [
  {
   "cell_type": "markdown",
   "metadata": {},
   "source": [
    "## Basic ML Homework\n",
    "### Модуль 4: Теоретический минимум для ML: линейная алгебра, начала мат.анализа"
   ]
  },
  {
   "cell_type": "markdown",
   "metadata": {},
   "source": [
    "## 1. Линейная алгебра"
   ]
  },
  {
   "cell_type": "markdown",
   "metadata": {},
   "source": [
    "1.1 Даны матрицы $A = \\begin{pmatrix}\n",
    "2 & −4 \\\\\n",
    "3 & 5 \\\\\n",
    "−1 & 0 \n",
    "\\end{pmatrix},\n",
    "$\n",
    "$B = \\begin{pmatrix}1 & 2 & 7 \\\\ −3 & −4 & 0 \\\\ 5 & 2 & 1 \\end{pmatrix}$, $C = \\begin{pmatrix}\n",
    "6 & −3 & 9 \\\\\n",
    "4 & −5 & 2 \\\\\n",
    "8 & 1 & 5\n",
    "\\end{pmatrix}.$\n",
    "\n",
    "Посчитайте матрицу $D = A^{\\top}C - 2A^{\\top}B^{\\top}$. Приведите полную последовательность вычислений."
   ]
  },
  {
   "cell_type": "markdown",
   "metadata": {},
   "source": [
    "\n",
    "**Решение**\n",
    "\n",
    "<blockquote>\n",
    "\n",
    "$A^{\\top} = \\begin{pmatrix}\n",
    "2 & −4 \\\\\n",
    "3 & 5 \\\\\n",
    "−1 & 0 \n",
    "\\end{pmatrix}\n",
    "^{\\top} = \n",
    "\\begin{pmatrix}\n",
    "2 & 3 & -1\\\\\n",
    "−4 & 5 & 0 \n",
    "\\end{pmatrix}$\n",
    ",&emsp;&emsp;\n",
    "$ B^{\\top} = \\begin{pmatrix}1 & 2 & 7 \\\\ −3 & −4 & 0 \\\\ 5 & 2 & 1 \\end{pmatrix}^{\\top} = \n",
    "\\begin{pmatrix}\n",
    "1 & -3 & 5 \\\\\n",
    "2 & -4 & 2 \\\\\n",
    "7 & 0 & 1\n",
    "\\end{pmatrix}\n",
    "$\n",
    "<br><br>\n",
    "\n",
    "$A^{\\top}C = \n",
    "\\begin{pmatrix}\n",
    "2 & 3 & -1\\\\\n",
    "−4 & 5 & 0 \n",
    "\\end{pmatrix}\n",
    "\\begin{pmatrix}\n",
    "6 & −3 & 9 \\\\\n",
    "4 & −5 & 2 \\\\\n",
    "8 & 1 & 5\n",
    "\\end{pmatrix}\n",
    "=\n",
    "\\begin{pmatrix}\n",
    "2*6+3*4+(-1)*8 & 2*(-3)+3*(-5)+(-1)*1 & 2*9+3*2+(-1)*5 \\\\\n",
    "(-4)*6+5*4+0*8 & (-4)*(-3)+5*(-5)+0*1 & (-4)*9+5*2+0*5\n",
    "\\end{pmatrix}\n",
    "=\n",
    "\\begin{pmatrix}\n",
    "16 & -22 & 19 \\\\\n",
    "-4 & -13 & -26\n",
    "\\end{pmatrix}\n",
    "$\n",
    "<br><br>\n",
    "\n",
    "$\n",
    "- 2A^{\\top}B^{\\top} =\n",
    "-2 \\begin{pmatrix}\n",
    "2 & −4 \\\\\n",
    "3 & 5 \\\\\n",
    "−1 & 0 \n",
    "\\end{pmatrix}\n",
    "^{\\top}\n",
    "\\begin{pmatrix}1 & 2 & 7 \\\\ −3 & −4 & 0 \\\\ 5 & 2 & 1 \\end{pmatrix}^{\\top}\n",
    "= -2\n",
    "\\begin{pmatrix}\n",
    "2 & 3 & -1\\\\\n",
    "−4 & 5 & 0 \n",
    "\\end{pmatrix}\n",
    "\\begin{pmatrix}\n",
    "1 & -3 & 5 \\\\\n",
    "2 & -4 & 2 \\\\\n",
    "7 & 0 & 1\n",
    "\\end{pmatrix}\n",
    "= -2 \\begin{pmatrix}\n",
    "2+6-7 & -6-12 & 10+6-1 \\\\\n",
    "-4+10 & 12-20 & -20+10\n",
    "\\end{pmatrix}\n",
    "=-2 \\begin{pmatrix}\n",
    "1 & -18 & 15 \\\\\n",
    "6 & -8 & -10\n",
    "\\end{pmatrix}\n",
    "=\\begin{pmatrix}\n",
    "-2 & 36 & -30 \\\\\n",
    "-12 & 16 & 20\n",
    "\\end{pmatrix}\n",
    "$\n",
    "<br><br>\n",
    "\n",
    "$A^{\\top}C - 2A^{\\top}B^{\\top} =\n",
    "\\begin{pmatrix}\n",
    "16 & -22 & 19 \\\\\n",
    "-4 & -13 & -26\n",
    "\\end{pmatrix}\n",
    "+\n",
    "\\begin{pmatrix}\n",
    "-2 & 36 & -30 \\\\\n",
    "-12 & 16 & 20\n",
    "\\end{pmatrix}\n",
    "=\n",
    "\\begin{pmatrix}\n",
    "14 & 14 & -11 \\\\\n",
    "-16 & 3 & -6\n",
    "\\end{pmatrix}\n",
    "$\n",
    "\n",
    "</blockquote>\n",
    "\n",
    "**Ответ**\n",
    "\n",
    "<blockquote>\n",
    "    \n",
    "$A^{\\top}C - 2A^{\\top}B^{\\top} =\n",
    "\\begin{pmatrix}\n",
    "14 & 14 & -11 \\\\\n",
    "-16 & 3 & -6\n",
    "\\end{pmatrix}\n",
    "$\n",
    "\n",
    "</blockquote>\n"
   ]
  },
  {
   "cell_type": "code",
   "execution_count": 18,
   "metadata": {},
   "outputs": [
    {
     "data": {
      "text/plain": [
       "array([[ 14,  14, -11],\n",
       "       [-16,   3,  -6]])"
      ]
     },
     "execution_count": 18,
     "metadata": {},
     "output_type": "execute_result"
    }
   ],
   "source": [
    "import numpy as np\n",
    "\n",
    "A = np.array([[2, -4], [3, 5], [-1, 0]])\n",
    "B = np.array([[1, 2, 7], [(-3), -4, 0], [5, 2, 1]])\n",
    "C = np.array([[6, -3, 9], [4, -5, 2], [8, 1, 5]])\n",
    "(A.T).dot(C) - 2 * (A.T).dot(B.T)"
   ]
  },
  {
   "cell_type": "markdown",
   "metadata": {},
   "source": [
    "---"
   ]
  },
  {
   "cell_type": "markdown",
   "metadata": {},
   "source": [
    "1.2 Дано:\n",
    "\n",
    "$ 3 \\cdot \\begin{pmatrix} x & 2 & 3 \\\\ −1 & y & 4 \\end{pmatrix} +\n",
    "2 \\cdot \\begin{pmatrix} 1 & 2 & −5 \\\\ 2 & −6 & z \\end{pmatrix} =\n",
    "\\begin{pmatrix}\n",
    "8 & v & −1 \\\\\n",
    "1 & 6 & 4 \\end{pmatrix}. $\n",
    "\n",
    "Найдите значения $x$, $y$, $z$, и $v$."
   ]
  },
  {
   "cell_type": "markdown",
   "metadata": {},
   "source": [
    "**Решение**\n",
    "\n",
    "<blockquote>\n",
    "\n",
    "$\n",
    "3x + 2 = 8,$ &emsp; $ x = 2\n",
    "$\n",
    "\n",
    "$\n",
    "3y - 12 = 6,$ &nbsp; $ y = 6\n",
    "$\n",
    "\n",
    "$\n",
    "12 + 2z = 4,$ &nbsp; $ y = -4\n",
    "$\n",
    "\n",
    "$\n",
    "6 + 4 = u,$ &emsp;&nbsp;&nbsp; $ u = 10\n",
    "$\n",
    "    \n",
    "</blockquote>\n"
   ]
  },
  {
   "cell_type": "markdown",
   "metadata": {},
   "source": [
    "---"
   ]
  },
  {
   "cell_type": "markdown",
   "metadata": {},
   "source": [
    "1.3 На множестве $\\mathbf{M}$ всех упорядоченных пар $(u; v)$ положительных чисел операции сложения и умножения введены\n",
    "следующим образом:\n",
    "\n",
    "$$\n",
    "(u_1; v_1) + (u_2; v_2) = (u_1 \\cdot u_2; v_1 \\cdot v_2); \n",
    "λ(u; v) = (u^{\\lambda}; v^{\\lambda}),\n",
    "$$\n",
    "\n",
    "где $\\lambda$ – вещественное число. Докажите, что при этом множество $\\mathbf{M}$ становится линейным пространством. Выясните: а) какая пара играет роль нулевого элемента; б) какая пара является противоположной паре $(u; v)$; в) укажите размерность этого пространства и какой-нибудь его базис."
   ]
  },
  {
   "cell_type": "markdown",
   "metadata": {},
   "source": [
    "<i><font color='blue'>\n",
    "Докажите, что при этом множество  𝐌  становится линейным пространством\n",
    "</font><i>\n",
    "\n",
    "**Доказательство**\n",
    "    \n",
    "<blockquote>\n",
    "\n",
    "\n",
    "1) Введена операция сложения, она коммутативна и ассоциативна\n",
    "\n",
    "* Коммутативность\n",
    "\n",
    "$\n",
    "(u_1; v_1) + (u_2; v_2) = (u_1 \\cdot u_2; v_1 \\cdot v_2) = (u_2 \\cdot u_1; v_2 \\cdot v_1) = (u_2; v_2) + (u_1; v_1)\n",
    "$\n",
    "\n",
    "* Ассоциативность\n",
    "\n",
    "$\n",
    "( (u_1; v_1) + (u_2; v_2) ) + (u_3; v_3) = (u_1 \\cdot u_2; v_1 \\cdot v_2) + (u_3; v_3) = (u_1 \\cdot u_2 \\cdot u_3; v_1 \\cdot v_2 \\cdot v_3) = (u_1; v_1) + (u_2 \\cdot u_3; v_2 \\cdot v_3) = (u_1; v_1) + ( (u_2; v_2) ) + (u_3; v_3) )\n",
    "$\n",
    "\n",
    "2) Введена операция умножения на скаляр, она ассоциативна\n",
    "\n",
    "* Ассоциативность\n",
    "\n",
    "$\n",
    "a \\cdot ( b(u_1; v_1) ) = a \\cdot (u_1^b; v_1^b) = (({u_1^b})^a; ({v_1^b})^a) = (u_1^{a \\cdot b}; v_1^{a \\cdot b}) = ({a \\cdot b}) \\cdot (u_1; v_1)\n",
    "$\n",
    "\n",
    "3) Остальные свойства тоже выплняются\n",
    "\n",
    "$\n",
    "(a + b) \\cdot (u_1; v_1) = a \\cdot (u_1; v_1) + b \\cdot (u_1; v_1) = (u_1^{a + b}; v_1^{a + b})\n",
    "$\n",
    "\n",
    "$\n",
    "a \\cdot ( (u_1; v_1) + (u_2; v_2) ) = a \\cdot (u_1; v_1) + a \\cdot (u_2; v_2) = ( (u_1 \\cdot u_2)^a; (v_1 \\cdot v_2)^a )\n",
    "$\n",
    "\n",
    "</blockquote>\n",
    "\n",
    "<i><font color='blue'>какая пара играет роль нулевого элемента</font></i>\n",
    "\n",
    "**Нулевой элемент**\n",
    "\n",
    "<blockquote>\n",
    "    \n",
    "$\n",
    "0 = (1; 1),$ &emsp; $ (u; v) + 0 = 0 + (u; v) = (u^1; v^1) $ <br> $\n",
    "x + (-x) = (u_x; v_x) + (-1) \\cdot (u_x; v_x) = ({{u_x} \\over {u_x}}; {{v_x} \\over {v_x}}) = (1; 1) = 0\n",
    "$\n",
    "\n",
    "</blockquote>\n",
    "\n",
    "<i><font color='blue'>какая пара является противоположной паре $(𝑢;𝑣)$</font></i>\n",
    "\n",
    "<blockquote>\n",
    "Для $(u; v)$ противоположная пара $({{1} \\over {u}}; {{1} \\over {v}})$\n",
    "\n",
    "</blockquote>\n",
    "<i><font color='blue'>\n",
    "укажите размерность этого пространства и какой-нибудь его базис\n",
    "</font></i>\n",
    "\n",
    "> Пространство размерности 2 <br>\n",
    "<b>базис:</b> <br>\n",
    "&emsp;&emsp; $X_1 = (2; 1)$,<br>\n",
    "&emsp;&emsp; $X_2 = (1; 2)$\n"
   ]
  },
  {
   "cell_type": "markdown",
   "metadata": {},
   "source": [
    "---"
   ]
  },
  {
   "cell_type": "markdown",
   "metadata": {},
   "source": [
    "1.4 Докажите, что множество всех квадратных матриц второго порядка с известными операциями сложения и умножения на число образуют четырехмерное линейное пространство. Укажите какой-нибудь базис этого пространства."
   ]
  },
  {
   "cell_type": "markdown",
   "metadata": {},
   "source": [
    "**Доказательство**\n",
    "\n",
    "<blockquote>\n",
    "\n",
    "Поскольку выполняются свойства для сложения и умножения на скаляр (коммутативность, ассоциативности и прочие), а также существуют нулевой и противоположный элементы:\n",
    "\n",
    "* нулевой: $\\begin{pmatrix} 0 & 0 \\\\ 0 & 0 \\end{pmatrix}$\n",
    "* противоположный для любого $X$: $ -X = \\begin{pmatrix} -x_{1 1} & -x_{1 2} \\\\ -x_{2 1} & -x_{2 2} \\end{pmatrix}$,\n",
    "\n",
    "значит это линейное пространство размерности 4:<br>\n",
    "&emsp; $ x_{1 1}, x_{1 2} $ <br>\n",
    "&emsp; $ x_{2 1}, x_{2 2} $\n",
    "\n",
    "</blockquote>\n",
    "\n",
    "**Базис**\n",
    "\n",
    "<blockquote>\n",
    "    $ X_1 = \\begin{pmatrix} 1 & 0 \\\\ 0 & 0 \\end{pmatrix}$ <br>\n",
    "    $ X_2 = \\begin{pmatrix} 0 & 1 \\\\ 0 & 0 \\end{pmatrix}$ <br>\n",
    "    $ X_3 = \\begin{pmatrix} 0 & 0 \\\\ 1 & 0 \\end{pmatrix}$ <br>\n",
    "    $ X_4 = \\begin{pmatrix} 0 & 0 \\\\ 0 & 1 \\end{pmatrix}$ <br>\n",
    "</blockquote>"
   ]
  },
  {
   "cell_type": "markdown",
   "metadata": {},
   "source": [
    "---"
   ]
  },
  {
   "cell_type": "markdown",
   "metadata": {},
   "source": [
    "1.5 Укажите те значения параметров $p$ и $q$, при которых\n",
    "ранг матрицы $A = \\begin{pmatrix} 1 & 2 & 3 \\\\ 3 & 6 & p \\\\ 5 & 10 & q \\end{pmatrix}$ равен единице."
   ]
  },
  {
   "cell_type": "markdown",
   "metadata": {},
   "source": [
    "> $ p = 9 $ <br>\n",
    "$ q = 15$"
   ]
  },
  {
   "cell_type": "markdown",
   "metadata": {},
   "source": [
    "---"
   ]
  },
  {
   "cell_type": "markdown",
   "metadata": {},
   "source": [
    "1.6 Относительно канонического базиса в $\\mathbb{R}^2$ даны три вектора $f_1 = (2, −5)$, $f_2 = (−1, 3)$, $x = (1, −4)$. Докажите, что векторы $f_1$ и $f_2$ можно принять за новый базис, и найдите координаты вектора $x$ в этом базисе"
   ]
  },
  {
   "cell_type": "markdown",
   "metadata": {},
   "source": [
    "**Доказательство**\n",
    "\n",
    "> Т.к. они не колинеарны, т.е. скалярное произведение $f_1 \\cdot f_2 \\neq 0$, значит их можно принять за новый базис.\n",
    "\n",
    "<i><font color='blue'>\n",
    "найдите координаты вектора $x$  в этом базисе\n",
    "</font></i>\n",
    "\n",
    "**Решение**\n",
    "\n",
    "<blockquote>\n",
    "\n",
    "Новый базис $B$: $ \\begin{pmatrix} 2 & -1 \\\\ -5 & 3 \\end{pmatrix} $\n",
    "\n",
    "Вектор $x$ в базисе $B$: $x_B = B^{-1} \\cdot x $ <br>\n",
    "$\n",
    "B^{-1} = \\begin{pmatrix} 3 & 1 \\\\ 5 & 2 \\end{pmatrix}\n",
    "$\n",
    "\n",
    "$x_B = \\begin{pmatrix} 3 & 1 \\\\ 5 & 2 \\end{pmatrix} \\cdot \\begin{pmatrix} 1 \\\\ -4 \\end{pmatrix} = \\begin{pmatrix} -1 \\\\ -3 \\end{pmatrix}$\n",
    "\n",
    "</blockquote>\n",
    "\n",
    "**Ответ**\n",
    "\n",
    "> $ x_B = (-1; -3)$\n",
    "\n"
   ]
  },
  {
   "cell_type": "markdown",
   "metadata": {},
   "source": [
    "---"
   ]
  },
  {
   "cell_type": "markdown",
   "metadata": {},
   "source": [
    "1.7 Предположим, что существует линейный оператор, выраженный в базисе $(e_1, e_2)$ в виде матрицы $A = \\begin{pmatrix} 1 & 0 \\\\ 0 & 2 \\end{pmatrix}$. Найдите матрицу данного оператора в базисе из векторов $(\\tilde{e}_1, \\tilde{e}_2)$, если:\n",
    "\n",
    "$$\n",
    "\\begin{cases}\n",
    "\\tilde{e}_1 = -2e_1 + 5e_2 \\\\\n",
    "\\tilde{e}_2 = -e_1 + 2e_2\n",
    "\\end{cases}.\n",
    "$$"
   ]
  },
  {
   "cell_type": "markdown",
   "metadata": {},
   "source": [
    "**Решение**\n",
    "\n",
    "<blockquote>\n",
    "\n",
    "Матрица перехода в новый базис $\\tilde{e}$:\n",
    "\n",
    "$ F = \\begin{pmatrix} -2 & -1 \\\\ 5 & 2 \\end{pmatrix} $\n",
    "\n",
    "Тогда ЛО $A$ в базисе $\\tilde{e}$:\n",
    "\n",
    "$A_{\\tilde{e}} = F^{-1} \\cdot A \\cdot F = \n",
    "\\begin{pmatrix} 2 & 1 \\\\ -5 & -2 \\end{pmatrix} \\cdot\n",
    "\\begin{pmatrix} 1 & 0 \\\\ 0 & 2 \\end{pmatrix} \\cdot\n",
    "\\begin{pmatrix} -2 & -1 \\\\ 5 & 2 \\end{pmatrix} =\n",
    "\\begin{pmatrix} 6 & 2 \\\\ -10 & -3 \\end{pmatrix}\n",
    "$\n",
    "\n",
    "</blockquote>\n",
    "\n",
    "**Ответ**\n",
    "\n",
    "<blockquote>\n",
    "$A_{\\tilde{e}} = \\begin{pmatrix} 6 & 2 \\\\ -10 & -3 \\end{pmatrix}$\n",
    "</blockquote>\n"
   ]
  },
  {
   "cell_type": "markdown",
   "metadata": {},
   "source": [
    "---"
   ]
  },
  {
   "cell_type": "markdown",
   "metadata": {},
   "source": [
    "## 2. Начала математического анализа"
   ]
  },
  {
   "cell_type": "markdown",
   "metadata": {},
   "source": [
    "1. Найти матрицу Гессе следующей функции:\n",
    "$$\n",
    "    f(x,y) = x^3 - 2xy + y^2 - 3x - 2y.\n",
    "$$\n",
    "\n",
    "    Доп.задание (явно в курсе не обсуждалось): найдите точки локального экстремума функции $f$."
   ]
  },
  {
   "cell_type": "markdown",
   "metadata": {},
   "source": [
    "<i><font color='blue'>\n",
    "Найти матрицу Гессе\n",
    "</font></i>\n",
    "\n",
    "**Решение**\n",
    "\n",
    "<blockquote>\n",
    "\n",
    "$ H = \\begin{pmatrix} \\frac{\\partial^2 f}{\\partial x \\partial x} &  \\frac{\\partial^2 f}{\\partial x \\partial y} \\\\\n",
    "\\frac{\\partial^2 f}{\\partial y \\partial x} & \\frac{\\partial^2 f}{\\partial y \\partial y} \\end{pmatrix},$\n",
    "\n",
    "${\\partial f \\over \\partial x} = 2 x^2 -2y - 3 $, <br>\n",
    "${\\partial f \\over \\partial y} = 2y -2x -2 $,\n",
    "\n",
    "$\\frac{\\partial^2 f}{\\partial x \\partial x} = 4x, \\quad \\frac{\\partial^2 f}{\\partial x \\partial y} = -2,\\\\\n",
    "\\frac{\\partial^2 f}{\\partial y \\partial x} = -2, \\quad \\frac{\\partial^2 f}{\\partial y \\partial y} = 2.\n",
    "$\n",
    "\n",
    "</blockquote>\n",
    "\n",
    "**Ответ**\n",
    "\n",
    "<blockquote>\n",
    "\n",
    "$ H = \\begin{pmatrix} 4x & -2 \\\\ -2 & 2 \\end{pmatrix}$.\n",
    "\n",
    "</blockquote>\n",
    "\n",
    "\n",
    "<br>\n",
    "<i><font color='blue'>\n",
    "точки локального экстремума функции $f$\n",
    "</font></i>\n",
    "\n",
    "**Решение**\n",
    "\n",
    "<blockquote>\n",
    "$\n",
    "\\begin{equation*}\n",
    "\\begin{cases}\n",
    "{\\partial f \\over \\partial x} = 2 x^2 -2y - 3 = 0\\\\\n",
    "{\\partial f \\over \\partial y} = 2y -2x -2 = 0\n",
    "\\end{cases}\n",
    "\\end{equation*}\n",
    "$\n",
    "\n",
    "$x_1 = 0.5 + {\\sqrt{11} \\over 2} $, &emsp; $y_1 = 1.5 + {\\sqrt{11} \\over 2} $ <br>\n",
    "$x_2 = 0.5 - {\\sqrt{11} \\over 2} $, &emsp; $y_2 = 1.5 - {\\sqrt{11} \\over 2} $\n",
    "\n",
    "</blockquote>\n",
    "\n",
    "**Ответ**\n",
    "\n",
    "<blockquote>\n",
    "\n",
    "$ (x_1, y_1) = ( 0.5 + {\\sqrt{11} \\over 2}, 1.5 + {\\sqrt{11} \\over 2} ) $ <br>\n",
    "$ (x_2, y_2) = ( 0.5 - {\\sqrt{11} \\over 2}, 1.5 - {\\sqrt{11} \\over 2} ) $.\n",
    "</blockquote>"
   ]
  },
  {
   "cell_type": "markdown",
   "metadata": {},
   "source": [
    "---"
   ]
  },
  {
   "cell_type": "markdown",
   "metadata": {},
   "source": [
    "2. Проверьте, что функция $f = \\ln(\\sqrt{x} + \\sqrt{y})$ удовлетворяет уравнению:\n",
    "\n",
    "$$\n",
    "x \\frac{\\partial f}{\\partial x} + y \\frac{\\partial f}{\\partial y} = \\frac{1}{2}.\n",
    "$$"
   ]
  },
  {
   "cell_type": "markdown",
   "metadata": {},
   "source": [
    "**Решение**\n",
    "\n",
    "<blockquote>\n",
    "\n",
    "${\\partial f \\over \\partial x} = {1 \\over {\\sqrt{x} + \\sqrt{y}}} \\cdot {1 \\over 2 \\sqrt{x}} $, <br>\n",
    "${\\partial f \\over \\partial y} = {1 \\over {\\sqrt{x} + \\sqrt{y}}} \\cdot {1 \\over 2 \\sqrt{y}} $.\n",
    "\n",
    "Тогда\n",
    "\n",
    "$$\n",
    "x \\frac{\\partial f}{\\partial x} + y \\frac{\\partial f}{\\partial y} =\n",
    "x \\cdot {1 \\over \\sqrt{x} + \\sqrt{y}} \\cdot {1 \\over 2 \\sqrt{x}} +\n",
    "y \\cdot {1 \\over \\sqrt{x} + \\sqrt{y}} \\cdot {1 \\over 2 \\sqrt{y}} =\n",
    "{1 \\over 2} \\cdot {\\sqrt{x} \\over \\sqrt{x} + \\sqrt{y}} + {1 \\over 2} \\cdot {\\sqrt{y} \\over \\sqrt{x} + \\sqrt{y}} = \n",
    "{1 \\over 2} \\cdot {\\sqrt{x} + \\sqrt{y} \\over \\sqrt{x} + \\sqrt{y}} = {1 \\over 2}.\n",
    "$$\n",
    "\n",
    "</blockquote>\n"
   ]
  },
  {
   "cell_type": "markdown",
   "metadata": {},
   "source": [
    "---"
   ]
  },
  {
   "cell_type": "markdown",
   "metadata": {},
   "source": [
    "3. Используя правило для вычисления производной сложной функции, найдите полный дифференциал $\\frac{df}{dt}$, если $$f = e^{xy}\\ln(x+y), \\quad x = 2t^2, \\quad y = 1 - 2t^2 .$$"
   ]
  },
  {
   "cell_type": "markdown",
   "metadata": {},
   "source": [
    "**Решение**\n",
    "\n",
    "<blockquote>\n",
    "\n",
    "Т.к. $\\ln(x+y) = \\ln(2t^2 + 1 - 2t^2) = \\ln 1 = 0$,\n",
    "\n",
    "то $f(t) = 0$ для всех $t$.\n",
    "\n",
    "Тогда $\\frac{df}{dt}$ = 0.\n",
    "\n",
    "\n",
    "</blockquote>\n",
    "\n",
    "---\n",
    "\n",
    "<blockquote>\n",
    "<font color='lightgray'>\n",
    "Ненужное разложение производной на части;\n",
    "    \n",
    "$$ \\frac{df}{dt} =  \\frac{d{(e^{xy})}}{dt} \\cdot \\ln(x+y) + e^{xy} \\cdot \\frac{d{(\\ln(x+y))}}{dt},\n",
    "$$\n",
    "\n",
    "$$ \\frac{d{(e^{xy})}}{dt} = e^{xy} \\cdot \\frac{d{(xy)}}{dt} =\n",
    "e^{xy} \\cdot \\frac{dx}{dt} \\cdot y + e^{xy} \\cdot x \\cdot \\frac{dy}{dt},\n",
    "$$\n",
    "\n",
    "$$\n",
    "\\frac{d{(\\ln(x+y))}}{dt} = \\frac{1}{x+y} \\cdot \\frac{d{(x+y)}}{dt} =\n",
    "\\frac{1}{x+y} \\cdot \\frac{dx}{dt} + \\frac{1}{x+y} \\cdot \\frac{dy}{dt}.\n",
    "$$\n",
    "\n",
    "$ $\n",
    "    \n",
    "$$\n",
    "e^{xy} = e^{2t^2 - 4t^4} = \\frac{e^{2t^2}}{e^{4t^4}} = e^{2t^2 (1 - 2t^2)} = \\frac{ e^{2t^2} }{ {(e^{2t^2})}^{2t^2} } =\n",
    "{({e \\over e^{2t^2}})} ^{2t^2},\n",
    "$$\n",
    "\n",
    "\n",
    "$$\\frac{dx}{dt} = 4t \\\\\n",
    "\\frac{dy}{dt} = -4t$$\n",
    "</font>\n",
    "</blockquote>\n"
   ]
  },
  {
   "cell_type": "markdown",
   "metadata": {},
   "source": [
    "---"
   ]
  },
  {
   "cell_type": "markdown",
   "metadata": {},
   "source": [
    "4. Предположим, задана функция $f: \\mathbb{R}^3 \\rightarrow \\mathbb{R}^2$\n",
    "\n",
    "$$\n",
    "    f(x,y,z) = (x+y+z, xyz).\n",
    "$$\n",
    "\n",
    "   Найдите матрицу Якоби функции $f$, и её численное значение в точке $v = (1, 2, 3)$."
   ]
  },
  {
   "cell_type": "markdown",
   "metadata": {},
   "source": [
    "<i><font color='blue'>\n",
    "Якоби функции $f$\n",
    "</font></i>\n",
    "\n",
    "**Решение**\n",
    "\n",
    "<blockquote>\n",
    "\n",
    "$J = \\begin{pmatrix}\n",
    "\\frac{\\partial f_x}{\\partial x} &  \\frac{\\partial f_x}{\\partial y} & \\frac{\\partial f_x}{\\partial z} \\\\\n",
    "\\frac{\\partial f_y}{\\partial x} &  \\frac{\\partial f_y}{\\partial y} & \\frac{\\partial f_y}{\\partial z}\n",
    "\\end{pmatrix}\n",
    "$\n",
    "\n",
    "$\n",
    "\\frac{\\partial f_x}{\\partial x} = 1, \\quad \\frac{\\partial f_x}{\\partial y} = 1, \\quad \\frac{\\partial f_x}{\\partial z} = 1, \\\\\n",
    "\\frac{\\partial f_y}{\\partial x} = yz, \\quad \\frac{\\partial f_y}{\\partial y} = xz, \\quad \\frac{\\partial f_y}{\\partial z} = xy.\n",
    "$\n",
    "\n",
    "</blockquote>\n",
    "\n",
    "**Ответ**\n",
    "\n",
    "<blockquote>\n",
    "\n",
    "$J = \\begin{pmatrix}\n",
    "1 & 1 & 1 \\\\\n",
    "yz & xz & xy\n",
    "\\end{pmatrix}.\n",
    "$\n",
    "\n",
    "</blockquote>\n",
    "\n",
    "<i><font color='blue'>\n",
    "численное значение в точке $v=(1,2,3)$\n",
    "</font></i>\n",
    "\n",
    "<blockquote>\n",
    "\n",
    "$J(1, 2, 3) = \\begin{pmatrix}\n",
    "1 & 1 & 1 \\\\\n",
    "6 & 3 & 2\n",
    "\\end{pmatrix}.\n",
    "$\n",
    "\n",
    "</blockquote>\n"
   ]
  },
  {
   "cell_type": "markdown",
   "metadata": {},
   "source": [
    "---"
   ]
  }
 ],
 "metadata": {
  "kernelspec": {
   "display_name": "Python 3 (ipykernel)",
   "language": "python",
   "name": "python3"
  },
  "language_info": {
   "codemirror_mode": {
    "name": "ipython",
    "version": 3
   },
   "file_extension": ".py",
   "mimetype": "text/x-python",
   "name": "python",
   "nbconvert_exporter": "python",
   "pygments_lexer": "ipython3",
   "version": "3.10.4"
  }
 },
 "nbformat": 4,
 "nbformat_minor": 2
}
