{
 "cells": [
  {
   "cell_type": "markdown",
   "metadata": {},
   "source": [
    "# <center> Homework 1 </center>"
   ]
  },
  {
   "cell_type": "markdown",
   "metadata": {},
   "source": [
    "# 0. Где мы сейчас?\n",
    "<img src=\"https://upload.wikimedia.org/wikipedia/commons/thumb/3/38/Jupyter_logo.svg/1200px-Jupyter_logo.svg.png\" width=\"150\">\n",
    "\n",
    "[Jupyter Notebook](https://jupyter.org/) - интерактивная среда для запуска программного кода в браузере. Удобный инструмент для анализа данных, который используется многими специалистами по data science. Позволяет выполнять отдельные ячейки с кодом, а не всю программу сразу, что очень удобно при знакомстве с данными."
   ]
  },
  {
   "cell_type": "markdown",
   "metadata": {},
   "source": [
    "# 1. Python\n",
    "> Python - это свободный интерпретируемый объектно-ориентированный расширяемый встраиваемый язык программирования очень высокого уровня \n",
    "\n",
    ">*(Г.Россум, Ф.Л.Дж.Дрейк, Д.С.Откидач \"Язык программирования Python\").*\n",
    "\n",
    "А если без цитат, то питон - это просто очень крутой язык, созданный в 1991 году [Великодушным пожизненным диктатором](https://ru.wikipedia.org/wiki/%D0%92%D0%B5%D0%BB%D0%B8%D0%BA%D0%BE%D0%B4%D1%83%D1%88%D0%BD%D1%8B%D0%B9_%D0%BF%D0%BE%D0%B6%D0%B8%D0%B7%D0%BD%D0%B5%D0%BD%D0%BD%D1%8B%D0%B9_%D0%B4%D0%B8%D0%BA%D1%82%D0%B0%D1%82%D0%BE%D1%80) Гвидо ван Россумом и названный в честь любимого им шоу [Monty Python's Flying Circus](https://en.wikipedia.org/wiki/Monty_Python%27s_Flying_Circus)\n",
    "\n",
    "<img src=\"https://advancelocal-adapter-image-uploads.s3.amazonaws.com/image.oregonlive.com/home/olive-media/width2048/img/tv/photo/2018/10/10/montycastjpg-7ef393e2355a42aa.jpg\" width=\"300\">"
   ]
  },
  {
   "cell_type": "markdown",
   "metadata": {},
   "source": [
    "# 2. Anaconda\n",
    "\n",
    "<img src=\"https://cdn-images-1.medium.com/max/1600/0*MVkCW8_Bmj-nuAnI.png\" width=\"300\">\n",
    "\n",
    "[Сборка Anaconda](https://www.anaconda.com/products/individual) включает очень много полезных библиотек для анализа данных. \n",
    "\n",
    "Среди наиболее популярных библиотек:\n",
    " - <a href=\"http://numpy.org\">Numpy</a> - это один из основных пакетов для математических вычислений. Он содержит средства для работы с многомерными массивами и высокоуровневыми математическими функциями\n",
    " - <a href=\"https://www.scipy.org/\">SciPy</a> - научные вычисления. Методы оптимизации, интегрирования, модули обработки сигналов и изображений, статистика, линейная алгебра, сплайны, кластеризация и многое другое\n",
    " -  <a href=\"http://pandas.pydata.org/\">Pandas</a> - основная библиотека для обработки и анализа данных. Предназначена для данных разной природы - матричных, панельных данных, временных рядов. Претендует на звание самого мощного и гибкого средства для анализа данных с открытым исходным кодом\n",
    " - <a href=\"http://scikit-learn.org/stable/\">Scikit-learn</a> - реализация очень многих методов машинного обучения с отличной документацией. \n",
    " - <a href=\"http://http://matplotlib.org/\">matplotlib</a> - хорошая библиотека для визуализации данных"
   ]
  },
  {
   "cell_type": "markdown",
   "metadata": {},
   "source": [
    "# 3. Задачки"
   ]
  },
  {
   "cell_type": "markdown",
   "metadata": {},
   "source": [
    "## Задача 1\n",
    "$N$ хоббитов делят $K$ кусков эльфийского хлеба поровну, не делящийся нацело остаток остается в корзинке у Сэма. Напишите функцию, которая принимает на вход параметры $N$ и $K$ и возвращает два числа: $x$ - cколько кусков эльфиского хлеба достанется каждому хоббиту, и $y$ - сколько кусков остаётся в корзинке."
   ]
  },
  {
   "cell_type": "code",
   "execution_count": 1,
   "metadata": {},
   "outputs": [
    {
     "name": "stdout",
     "output_type": "stream",
     "text": [
      "Warning: Некорректное количество хоббитов: 0. Для корректного расчета требуется целое положительное количество хоббитов.\n",
      "Warning: Некорректное количество хоббитов: 2.5. Для корректного расчета требуется целое положительное количество хоббитов.\n",
      "Warning: Некорректное количество хоббитов: -4. Для корректного расчета требуется целое положительное количество хоббитов.\n"
     ]
    }
   ],
   "source": [
    "def share_bread(N, K):\n",
    "    # your code here\n",
    "    if (not(isinstance(N,int)) or N<=0):\n",
    "        print(f'Warning: Некорректное количество хоббитов: {N}. Для корректного расчета требуется целое положительное количество хоббитов.')\n",
    "        return -1, K\n",
    "    x = K//N\n",
    "    y = K-x*N\n",
    "    return x, y\n",
    "\n",
    "# если в функции всё верно, то после выполнения этой строчки, не должно выскакивать ошибок\n",
    "assert share_bread(N=3, K=14) == (4, 2)\n",
    "\n",
    "# доп проверки\n",
    "assert share_bread(0, K=14) == (-1, 14)\n",
    "assert share_bread(2.5, K=14) == (-1, 14)\n",
    "assert share_bread(-4, K=14) == (-1, 14)\n",
    "assert share_bread(5, K=4) == (0, 4)"
   ]
  },
  {
   "cell_type": "markdown",
   "metadata": {},
   "source": [
    "## Задача 2\n",
    "\n",
    "В копях Мории хоббиты нашли стену, на которой высечены разные натуральные числа. Согласно древним сказаниям, это даты сражений. Хоббиты знают, что сражения происходили только по високосным годам. Помогите хоббитам определить, является ли год с данным числом датой великого сражения. Если это так, то верните строку \"YOU SHALL PASS\", иначе верните \"YOU SHALL NOT PASS\". Напомним, что в соответствии с хоббитским календарем, год является високосным, если его номер кратен 4, но не кратен 100, а также если он кратен 400."
   ]
  },
  {
   "cell_type": "code",
   "execution_count": 2,
   "metadata": {},
   "outputs": [],
   "source": [
    "def leap_year(year):\n",
    "    # your code here\n",
    "    text_result = 'YOU SHALL PASS' if (year%4 == 0 and year%100 != 0 or year%400 == 0 ) else 'YOU SHALL NOT PASS'\n",
    "    return text_result\n",
    "\n",
    "assert leap_year(5) == 'YOU SHALL NOT PASS'\n",
    "\n",
    "# доп проверки\n",
    "assert leap_year(3) == 'YOU SHALL NOT PASS'\n",
    "assert leap_year(4) != 'YOU SHALL NOT PASS'\n",
    "assert leap_year(96) != 'YOU SHALL NOT PASS'\n",
    "assert leap_year(97) == 'YOU SHALL NOT PASS'\n",
    "assert leap_year(99) == 'YOU SHALL NOT PASS'\n",
    "assert leap_year(100) == 'YOU SHALL NOT PASS'\n",
    "assert leap_year(104) != 'YOU SHALL NOT PASS'\n",
    "assert leap_year(196) != 'YOU SHALL NOT PASS'\n",
    "assert leap_year(200) == 'YOU SHALL NOT PASS'\n",
    "assert leap_year(400) != 'YOU SHALL NOT PASS'\n",
    "assert leap_year(800) != 'YOU SHALL NOT PASS'\n",
    "assert leap_year(900) == 'YOU SHALL NOT PASS'\n",
    "assert leap_year(1200) != 'YOU SHALL NOT PASS'\n",
    "assert leap_year(2000) != 'YOU SHALL NOT PASS'"
   ]
  },
  {
   "cell_type": "markdown",
   "metadata": {},
   "source": [
    "## Задача 3\n",
    "<img src=\"http://i0.kym-cdn.com/photos/images/original/001/187/255/5e9.gif\" width=300>\n",
    "Для могущественного магического ритуала Гендальфу необходимо быстро подсчитывать площадь своего амулета, который умеет менять размеры. Известно, что амулет имеет форму треугольника и Гендальф знает длину каждой из сторон. Напишите функцию, которая считает площадь амулета по трем сторонам.  \n",
    "\n",
    "Подсказка: используйте формулу Герона\n",
    "$$ S = \\sqrt{p(p-a)(p-b)(p-c)} $$\n",
    "$$ p = \\frac{a + b + c}{2}$$\n"
   ]
  },
  {
   "cell_type": "code",
   "execution_count": 3,
   "metadata": {},
   "outputs": [
    {
     "name": "stdout",
     "output_type": "stream",
     "text": [
      "Warning: Некорректные длины строн: -1, 8, 10. Для корректного расчета требуется числовые положительное значения сторон.\n",
      "Warning: Некорректные длины строн: 6, 0, 10. Для корректного расчета требуется числовые положительное значения сторон.\n",
      "Warning: Некорректные длины строн: 6, 0, c. Для корректного расчета требуется числовые положительное значения сторон.\n"
     ]
    }
   ],
   "source": [
    "def amulet_area(a, b, c):\n",
    "    # your code here\n",
    "    # функция определения корректности входящего значения\n",
    "    check_real = lambda leg: (isinstance(leg, (float, int)) and leg > 0)\n",
    "    # определяем количество корректных в списке\n",
    "    check_result = filter(check_real, (a,b,c))\n",
    "    if (len(list(check_result)) != 3):\n",
    "        print(f'Warning: Некорректные длины строн: {a}, {b}, {c}. Для корректного расчета требуется числовые положительное значения сторон.')\n",
    "        return -1\n",
    "    \n",
    "    P = (a + b + c)/2\n",
    "    S = (P * (P-a) * (P-b) * (P-c)) ** 0.5\n",
    "    return S\n",
    "\n",
    "assert amulet_area(3, 4, 5) == 6\n",
    "\n",
    "# доп проверки\n",
    "assert amulet_area(6, 8, 10) == 24\n",
    "assert amulet_area(-1, 8, 10) == -1\n",
    "assert amulet_area(6, 0, 10) == -1\n",
    "assert amulet_area(6, 0, 'c') == -1"
   ]
  },
  {
   "cell_type": "markdown",
   "metadata": {},
   "source": [
    "## Задача 4\n",
    "\n",
    "Хоббиты собираются пешком идти до Мордора и им нужно подсчитать расстояние, которое им предстоит пройти. Хоббиты смогли вспомнить сразу несколько метрик расстояния: евклидово, манхэттена и косинусное, так что ваша задача - напистаь функцию под каждую из них. Важное условие - используйте только базовые функции numpy для решения.\n",
    "\n",
    "\n",
    "* Евклидово расстояние\n",
    "$$ d(a, b) = \\sqrt{\\sum_i (a_i - b_i)^2} $$\n",
    "* Расстояние Манхэттена\n",
    "$$ d(a, b) = \\sum_i |a_i - b_i| $$\n",
    "* Косинусное расстояние\n",
    "$$ d(a, b) = 1 - \\frac{a^\\top b}{||a||_2\\cdot||b||_2}$$"
   ]
  },
  {
   "cell_type": "code",
   "execution_count": 4,
   "metadata": {},
   "outputs": [],
   "source": [
    "import numpy as np\n",
    "def cal_euclidean(a, b):\n",
    "    ## Your code here\n",
    "    a = np.array(a)\n",
    "    b = np.array(b)\n",
    "    distance = np.sum(np.square(a - b)) ** 0.5\n",
    "    return distance\n",
    "\n",
    "\n",
    "def cal_manhattan(a, b):\n",
    "    ## Your code here\n",
    "    # print(f'------\\n', np.abs(np.array(a) - np.array(b)))\n",
    "    a = np.array(a)\n",
    "    b = np.array(b)\n",
    "    distance = np.sum(np.abs(a - b))\n",
    "    return distance\n",
    "\n",
    "\n",
    "def cal_cosine(a, b):\n",
    "    ## Your code here\n",
    "    # Скалярное произведение векторов\n",
    "    a = np.array(a)\n",
    "    b = np.array(b)\n",
    "    scal_pr = np.sum(a * b)\n",
    "\n",
    "    distance = 1 - abs(scal_pr) / (sum(np.square(a)) ** 0.5 * sum(np.square(b)) ** 0.5)  # Диапазон [0 , 1]\n",
    "    # distance = 1 - scal_pr / (sum(np.square(a)) ** 0.5 * sum(np.square(b)) ** 0.5)  # Диапазон [0 , 2]\n",
    "    return distance"
   ]
  },
  {
   "cell_type": "code",
   "execution_count": 5,
   "metadata": {},
   "outputs": [
    {
     "name": "stdout",
     "output_type": "stream",
     "text": [
      "27.622454633866266\n",
      "77\n",
      "0.8925978549482732\n"
     ]
    }
   ],
   "source": [
    "a = np.random.randint(-10, 10, size=10)\n",
    "b = np.random.randint(-10, 10, size=10)\n",
    "print(cal_euclidean(a, b))\n",
    "print(cal_manhattan(a, b))\n",
    "print(cal_cosine(a, b))"
   ]
  },
  {
   "cell_type": "markdown",
   "metadata": {},
   "source": [
    "## Задача 5\n",
    "\n",
    "Ну и напоследок, еще немного практики numpy, без которой не обходится ни один хоббит.\n"
   ]
  },
  {
   "cell_type": "markdown",
   "metadata": {},
   "source": [
    "Создайте случайный array (`np.random.rand()`) длинной 100. Преобразуйте его так, чтобы\n",
    "* Максимальный элемент(ы) был равен 1\n",
    "* Минимальный элемент(ы) был равен 0\n",
    "* Остальные элементы в итнтервале от 0 до 1 остаются прежними"
   ]
  },
  {
   "cell_type": "code",
   "execution_count": 6,
   "metadata": {},
   "outputs": [
    {
     "name": "stdout",
     "output_type": "stream",
     "text": [
      "1.0 0.0\n",
      "[0.33947562 0.33205245 0.32948545 0.32771979 0.38531536 0.36666908\n",
      " 0.14814159 0.31115951 0.23348894 0.75848819 0.12771692 0.72716592\n",
      " 0.99059075 0.75805092 0.52410939 0.1891428  0.39149334 1.\n",
      " 0.         0.49574372 0.67696638 0.29497392 0.77647427 0.18597958\n",
      " 0.16057342 0.06296158 0.66870618 0.96265275 0.4724932  0.9087026\n",
      " 0.60523574 0.13200208 0.88685338 0.92070787 0.58351691 0.10133378\n",
      " 0.54151895 0.64933462 0.16690033 0.6553931  0.60372646 0.01936525\n",
      " 0.17600667 0.1136696  0.20482999 0.11799381 0.65118676 0.01447857\n",
      " 0.42436462 0.59980955 0.79105794 0.04621226 0.35073385 0.67724841\n",
      " 0.72704365 0.86698831 0.85477655 0.36766954 0.38104125 0.12466322\n",
      " 0.45177737 0.94398869 0.70566399 0.27855934 0.42878529 0.76450211\n",
      " 0.68793959 0.80573144 0.17217883 0.43798559 0.98623337 0.69391078\n",
      " 0.55736368 0.35600699 0.34102699 0.10041877 0.71402824 0.4451603\n",
      " 0.83078551 0.15061167 0.0574692  0.30762935 0.04224599 0.68643077\n",
      " 0.43261247 0.21060799 0.9013415  0.96077013 0.94425327 0.3978803\n",
      " 0.40083305 0.88198856 0.11862912 0.52387743 0.42933786 0.87158764\n",
      " 0.39295905 0.18027136 0.47177521 0.42718173]\n"
     ]
    }
   ],
   "source": [
    "my_array = np.random.rand(100)\n",
    "## Your code here\n",
    "my_array[np.argmax(my_array)] = 1\n",
    "my_array[np.argmin(my_array)] = 0\n",
    "print(np.max(my_array), np.min(my_array))\n",
    "print(my_array)"
   ]
  },
  {
   "cell_type": "markdown",
   "metadata": {},
   "source": [
    "Создайте array размером $5 \\times 6$ с целыми числами в интервале [0,50]. Напечатайте колонку, которая содержит максимальный элемент полученной матрицы "
   ]
  },
  {
   "cell_type": "code",
   "execution_count": 7,
   "metadata": {},
   "outputs": [
    {
     "name": "stdout",
     "output_type": "stream",
     "text": [
      "Shape:  (5, 6)\n",
      "Array\n",
      "[[17 25  9 41 40 50]\n",
      " [19 16 22 10 43 36]\n",
      " [35 29 50  5 35 39]\n",
      " [13 10 27 39 44 42]\n",
      " [37 50 43 42 41 37]]\n",
      "Column: [50 36 39 42 37]\n"
     ]
    }
   ],
   "source": [
    "my_array = np.random.randint(0, 51, size = (5, 6))\n",
    "## Your code here\n",
    "max_index = np.argmax(my_array)\n",
    "max_index_list = divmod(max_index, my_array.shape[1])\n",
    "# print(max_index_list)\n",
    "# print(my_array.transpose()[max_index_list[1]])\n",
    "selected_column = my_array.transpose()[max_index_list[1]]\n",
    "## Your code here\n",
    "print('Shape: ',my_array.shape)\n",
    "print('Array')\n",
    "print(my_array)\n",
    "print('Column:', selected_column)"
   ]
  },
  {
   "cell_type": "markdown",
   "metadata": {},
   "source": [
    "Напишите функцию, которая принимает на вхoд матрицу (array) X и возвращает все её уникальные строки в виде новой матрицы."
   ]
  },
  {
   "cell_type": "code",
   "execution_count": 8,
   "metadata": {},
   "outputs": [],
   "source": [
    "def get_unique_rows(X):\n",
    "    # Your code here\n",
    "    X_unique = np.unique(X, axis = 0)\n",
    "    return X_unique"
   ]
  },
  {
   "cell_type": "code",
   "execution_count": 9,
   "metadata": {},
   "outputs": [
    {
     "name": "stdout",
     "output_type": "stream",
     "text": [
      "[[5 4 5]\n",
      " [5 5 5]\n",
      " [4 4 4]\n",
      " [5 4 4]\n",
      " [5 4 4]\n",
      " [5 5 4]\n",
      " [5 5 4]\n",
      " [5 4 5]\n",
      " [5 5 5]\n",
      " [5 4 4]]\n"
     ]
    }
   ],
   "source": [
    "X = np.random.randint(4, 6, size=(10,3))\n",
    "print(X)"
   ]
  },
  {
   "cell_type": "code",
   "execution_count": 10,
   "metadata": {},
   "outputs": [
    {
     "data": {
      "text/plain": [
       "array([[4, 4, 4],\n",
       "       [5, 4, 4],\n",
       "       [5, 4, 5],\n",
       "       [5, 5, 4],\n",
       "       [5, 5, 5]])"
      ]
     },
     "execution_count": 10,
     "metadata": {},
     "output_type": "execute_result"
    }
   ],
   "source": [
    "get_unique_rows(X)"
   ]
  }
 ],
 "metadata": {
  "kernelspec": {
   "display_name": "Python 3 (ipykernel)",
   "language": "python",
   "name": "python3"
  },
  "language_info": {
   "codemirror_mode": {
    "name": "ipython",
    "version": 3
   },
   "file_extension": ".py",
   "mimetype": "text/x-python",
   "name": "python",
   "nbconvert_exporter": "python",
   "pygments_lexer": "ipython3",
   "version": "3.10.4"
  },
  "varInspector": {
   "cols": {
    "lenName": 16,
    "lenType": 16,
    "lenVar": 40
   },
   "kernels_config": {
    "python": {
     "delete_cmd_postfix": "",
     "delete_cmd_prefix": "del ",
     "library": "var_list.py",
     "varRefreshCmd": "print(var_dic_list())"
    },
    "r": {
     "delete_cmd_postfix": ") ",
     "delete_cmd_prefix": "rm(",
     "library": "var_list.r",
     "varRefreshCmd": "cat(var_dic_list()) "
    }
   },
   "types_to_exclude": [
    "module",
    "function",
    "builtin_function_or_method",
    "instance",
    "_Feature"
   ],
   "window_display": false
  }
 },
 "nbformat": 4,
 "nbformat_minor": 2
}
